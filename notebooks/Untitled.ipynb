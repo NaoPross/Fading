{
 "cells": [
  {
   "cell_type": "code",
   "execution_count": 1,
   "id": "6b0e891f",
   "metadata": {},
   "outputs": [],
   "source": [
    "import numpy as np \n",
    "from numpy.fft import fft,ifft,fftshift\n",
    "import matplotlib.pyplot as plt"
   ]
  },
  {
   "cell_type": "code",
   "execution_count": 2,
   "id": "f7878dca",
   "metadata": {},
   "outputs": [
    {
     "data": {
      "text/plain": [
       "array([-4, -3, -2, -1,  0,  1,  2,  3])"
      ]
     },
     "execution_count": 2,
     "metadata": {},
     "output_type": "execute_result"
    }
   ],
   "source": [
    "tau = 1\n",
    "freq = np.arange(-4,4)\n",
    "freq"
   ]
  },
  {
   "cell_type": "code",
   "execution_count": 3,
   "id": "6b5000a6",
   "metadata": {},
   "outputs": [
    {
     "data": {
      "text/plain": [
       "array([1.-9.79717439e-16j, 1.-7.34788079e-16j, 1.-4.89858720e-16j,\n",
       "       1.-2.44929360e-16j, 1.+0.00000000e+00j, 1.+2.44929360e-16j,\n",
       "       1.+4.89858720e-16j, 1.+7.34788079e-16j])"
      ]
     },
     "execution_count": 3,
     "metadata": {},
     "output_type": "execute_result"
    }
   ],
   "source": [
    "f_tabs = np.exp((-2j*np.pi*freq*tau))\n",
    "f_tabs"
   ]
  },
  {
   "cell_type": "code",
   "execution_count": 4,
   "id": "54df500d",
   "metadata": {},
   "outputs": [
    {
     "data": {
      "image/png": "[encoded data removed]",
      "text/plain": [
       "<Figure size 432x288 with 1 Axes>"
      ]
     },
     "metadata": {
      "needs_background": "light"
     },
     "output_type": "display_data"
    }
   ],
   "source": [
    "plt.plot(f_tabs.real)\n",
    "plt.plot(f_tabs.imag)\n",
    "plt.show()"
   ]
  },
  {
   "cell_type": "code",
   "execution_count": 5,
   "id": "bffc82f4",
   "metadata": {},
   "outputs": [
    {
     "data": {
      "text/plain": [
       "array([ 1.00000000e+00-1.2246468e-16j, -2.95655891e-16+1.2246468e-16j,\n",
       "        1.22464680e-16-1.2246468e-16j, -5.07265313e-17+1.2246468e-16j,\n",
       "        0.00000000e+00-1.2246468e-16j,  5.07265313e-17+1.2246468e-16j,\n",
       "       -1.22464680e-16-1.2246468e-16j,  2.95655891e-16+1.2246468e-16j])"
      ]
     },
     "execution_count": 5,
     "metadata": {},
     "output_type": "execute_result"
    }
   ],
   "source": [
    "i_tabs = ifft(fftshift(f_tabs))\n",
    "i_tabs"
   ]
  },
  {
   "cell_type": "code",
   "execution_count": 6,
   "id": "12ff730b",
   "metadata": {},
   "outputs": [
    {
     "data": {
      "image/png": "[encoded data removed]",
      "text/plain": [
       "<Figure size 432x288 with 1 Axes>"
      ]
     },
     "metadata": {
      "needs_background": "light"
     },
     "output_type": "display_data"
    }
   ],
   "source": [
    "shiftet= fftshift(f_tabs)\n",
    "plt.plot(shiftet.real)\n",
    "plt.plot(shiftet.imag)\n",
    "plt.show()"
   ]
  },
  {
   "cell_type": "code",
   "execution_count": 7,
   "id": "a075dd24",
   "metadata": {},
   "outputs": [
    {
     "data": {
      "image/png": "[encoded data removed]",
      "text/plain": [
       "<Figure size 432x288 with 1 Axes>"
      ]
     },
     "metadata": {
      "needs_background": "light"
     },
     "output_type": "display_data"
    }
   ],
   "source": [
    "plt.plot(i_tabs.real)\n",
    "plt.plot(i_tabs.imag)\n",
    "plt.show()\n"
   ]
  },
  {
   "cell_type": "code",
   "execution_count": null,
   "id": "92311556",
   "metadata": {},
   "outputs": [],
   "source": []
  },
  {
   "cell_type": "markdown",
   "id": "4c190dbf",
   "metadata": {},
   "source": [
    "# Delay as a Convolution System"
   ]
  },
  {
   "cell_type": "code",
   "execution_count": 8,
   "id": "0929e51c",
   "metadata": {},
   "outputs": [
    {
     "data": {
      "text/plain": [
       "[0, 0, 0, 1]"
      ]
     },
     "execution_count": 8,
     "metadata": {},
     "output_type": "execute_result"
    }
   ],
   "source": [
    "# Create the FIR\n",
    "D = 3 # Delay value\n",
    "h = [0]*D+[1]\n",
    "h"
   ]
  },
  {
   "cell_type": "code",
   "execution_count": null,
   "id": "1b8438b2",
   "metadata": {},
   "outputs": [],
   "source": []
  }
 ],
 "metadata": {
  "kernelspec": {
   "display_name": "Python 3 (ipykernel)",
   "language": "python",
   "name": "python3"
  },
  "language_info": {
   "codemirror_mode": {
    "name": "ipython",
    "version": 3
   },
   "file_extension": ".py",
   "mimetype": "text/x-python",
   "name": "python",
   "nbconvert_exporter": "python",
   "pygments_lexer": "ipython3",
   "version": "3.9.2"
  }
 },
 "nbformat": 4,
 "nbformat_minor": 5
}
