{
 "cells": [
  {
   "cell_type": "code",
   "execution_count": 1,
   "id": "e19197ba",
   "metadata": {},
   "outputs": [],
   "source": [
    "import numpy as np\n",
    "\n",
    "import matplotlib.pyplot as plt\n",
    "import matplotlib.image as mpimg"
   ]
  },
  {
   "cell_type": "markdown",
   "id": "ea1a7a45",
   "metadata": {},
   "source": [
    "# Simple 2 tap fading"
   ]
  },
  {
   "cell_type": "code",
   "execution_count": 2,
   "id": "4465dcd9",
   "metadata": {},
   "outputs": [
    {
     "data": {
      "text/plain": [
       "<matplotlib.collections.PathCollection at 0x7efdc8f89f10>"
      ]
     },
     "execution_count": 2,
     "metadata": {},
     "output_type": "execute_result"
    },
    {
     "data": {
      "image/png": "[encoded data removed]",
      "text/plain": [
       "<Figure size 432x288 with 1 Axes>"
      ]
     },
     "metadata": {
      "needs_background": "light"
     },
     "output_type": "display_data"
    }
   ],
   "source": [
    "nsamples = 200\n",
    "samp_rate = 32e3\n",
    "\n",
    "# QPSK modulation\n",
    "samp_per_sym = 4\n",
    "symbol_map = {\n",
    "    0: 1 + 1j,\n",
    "    1: -1 + 1j,\n",
    "    2: -1 - 1j,\n",
    "    3: 1 - 1j,\n",
    "}\n",
    "\n",
    "# generate random data for testing\n",
    "data = np.random.randint(low=0, high=4, size=nsamples)\n",
    "\n",
    "# modulate and add AWGN\n",
    "noise = np.random.normal(0, .03, size=nsamples) + 1j * np.random.normal(0, .03, size=nsamples)\n",
    "sig = np.array(list(map(lambda v: symbol_map[v], data))) + noise\n",
    "\n",
    "# add 2 tap frequency selective channel\n",
    "delay = np.zeros(5 * samp_per_sym)\n",
    "one = np.array([1])\n",
    "taps = np.concatenate([one, delay, .2 * one])\n",
    "\n",
    "# apply channel\n",
    "sig_fading = np.convolve(sig, taps)\n",
    "\n",
    "# plot figure\n",
    "fig = plt.figure()\n",
    "plt.scatter(sig_fading.real, sig_fading.imag)"
   ]
  },
  {
   "cell_type": "code",
   "execution_count": null,
   "id": "db9b381c",
   "metadata": {},
   "outputs": [],
   "source": []
  }
 ],
 "metadata": {
  "kernelspec": {
   "display_name": "Python 3 (ipykernel)",
   "language": "python",
   "name": "python3"
  },
  "language_info": {
   "codemirror_mode": {
    "name": "ipython",
    "version": 3
   },
   "file_extension": ".py",
   "mimetype": "text/x-python",
   "name": "python",
   "nbconvert_exporter": "python",
   "pygments_lexer": "ipython3",
   "version": "3.9.2"
  }
 },
 "nbformat": 4,
 "nbformat_minor": 5
}
