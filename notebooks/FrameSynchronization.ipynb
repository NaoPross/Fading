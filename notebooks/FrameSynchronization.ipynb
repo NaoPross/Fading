{
 "cells": [
  {
   "cell_type": "code",
   "execution_count": 1,
   "id": "5d5acf43",
   "metadata": {},
   "outputs": [],
   "source": [
    "import numpy as np\n",
    "from numpy_ringbuffer import RingBuffer\n",
    "\n",
    "import matplotlib.pyplot as plt\n",
    "import matplotlib.image as mpimg"
   ]
  },
  {
   "cell_type": "markdown",
   "id": "4b294887",
   "metadata": {},
   "source": [
    "# Digital Frame Synchronization\n"
   ]
  },
  {
   "cell_type": "code",
   "execution_count": 2,
   "id": "5bec50ff",
   "metadata": {},
   "outputs": [
    {
     "name": "stdout",
     "output_type": "stream",
     "text": [
      "Header sequence (N=16): [1 1 1 1 0 1 1 1 0 1 1 1 1 1 0 1]\n",
      "Cross correlation: [ 3.  4.  5.  5.  6.  4.  4.  6.  4.  4.  5.  8.  7. 10.  8.  7.  8. 10.\n",
      "  7.  8.  8.  9. 14. 11.  9. 10. 12.  9. 13.  9.  9. 11. 13.  9. 12. 11.\n",
      "  9.  9. 13. 10.  9. 11.  9. 14. 12.  9. 10. 11.  8. 11.  6.  9.  8. 11.\n",
      "  6.  7.  9.  8.  7.  4.  4.  9.  9.  7.  6.  7.  9. 11.  8.  7. 10. 12.\n",
      " 10. 11. 11. 10.  9. 10.  9.  7. 10.  7.  9.  6.  7.  6.  5.  4.  5.  2.\n",
      "  4.  3.]\n",
      "Correlation peak value: 14.0\n"
     ]
    },
    {
     "data": {
      "text/plain": [
       "<StemContainer object of 3 artists>"
      ]
     },
     "execution_count": 2,
     "metadata": {},
     "output_type": "execute_result"
    },
    {
     "data": {
      "image/png": "[encoded data removed]",
      "text/plain": [
       "<Figure size 1800x360 with 1 Axes>"
      ]
     },
     "metadata": {
      "needs_background": "light"
     },
     "output_type": "display_data"
    }
   ],
   "source": [
    "# Create test data\n",
    "seq = np.array([(0xbeef >> i) & 0x1 for i in range(4 * 4)])\n",
    "# seq = np.array([1, 1, 1, 1, 1, 0, 0, 1, 1, 0, 1, 0, 1])\n",
    "\n",
    "stream = np.concatenate([\n",
    "    np.random.randint(low=0, high=2, size=30), seq, np.random.randint(low=0, high=2, size=30)\n",
    "])\n",
    "\n",
    "print(f\"Header sequence (N={len(seq)}): {seq}\")\n",
    "# print(f\"Data stream: {stream}\")\n",
    "\n",
    "# compute cross correlation\n",
    "def distance(v):\n",
    "    return len(seq) - sum(np.logical_xor(v, seq))\n",
    "\n",
    "fifo = RingBuffer(len(seq))\n",
    "xcorr = RingBuffer(len(stream) + len(seq))\n",
    "\n",
    "## fill FIFO with zeros\n",
    "fifo.extend(np.zeros(fifo.maxlen))\n",
    "\n",
    "for i in range(len(stream) + len(seq)):\n",
    "    #print(np.array(fifo))\n",
    "    xcorr.append(distance(np.array(fifo)))\n",
    "    \n",
    "    # if the stream is finished use zeros\n",
    "    fifo.pop()\n",
    "    if i < len(stream):\n",
    "        fifo.appendleft(stream[i])\n",
    "    else:\n",
    "        fifo.appendleft(0)\n",
    "\n",
    "print(f\"Cross correlation: {np.array(xcorr)}\")\n",
    "print(f\"Correlation peak value: {max(np.array(xcorr))}\")\n",
    "\n",
    "plt.figure(figsize = (25, 5))\n",
    "plt.stem(np.array(xcorr))"
   ]
  }
 ],
 "metadata": {
  "kernelspec": {
   "display_name": "Python 3 (ipykernel)",
   "language": "python",
   "name": "python3"
  },
  "language_info": {
   "codemirror_mode": {
    "name": "ipython",
    "version": 3
   },
   "file_extension": ".py",
   "mimetype": "text/x-python",
   "name": "python",
   "nbconvert_exporter": "python",
   "pygments_lexer": "ipython3",
   "version": "3.9.2"
  }
 },
 "nbformat": 4,
 "nbformat_minor": 5
}
