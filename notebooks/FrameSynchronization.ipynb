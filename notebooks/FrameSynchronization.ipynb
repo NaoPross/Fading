{
 "cells": [
  {
   "cell_type": "code",
   "execution_count": 1,
   "id": "57a55a8c",
   "metadata": {},
   "outputs": [],
   "source": [
    "import numpy as np\n",
    "from numpy_ringbuffer import RingBuffer\n",
    "\n",
    "import matplotlib.pyplot as plt\n",
    "import matplotlib.image as mpimg"
   ]
  },
  {
   "cell_type": "markdown",
   "id": "dc4b9dfd",
   "metadata": {},
   "source": [
    "# Digital Frame Synchronization\n"
   ]
  },
  {
   "cell_type": "code",
   "execution_count": 27,
   "id": "025c6919",
   "metadata": {
    "scrolled": false
   },
   "outputs": [
    {
     "name": "stdout",
     "output_type": "stream",
     "text": [
      "Header (N=16): [1 0 1 1 1 1 1 0 1 1 1 0 1 1 1 1]\n",
      "Stream (N=80): [0 0 1 1 0 0 0 0 1 0 1 1 1 0 0 0 0 0 0 1 0 0 0 1 0 0 0 0 0 1 1 1 1 0 1 1 1\n",
      " 1 1 0 1 1 1 0 1 1 1 1 1 0 1 1 1 0 1 1 0 1 0 1 1 0 0 1 1 1 0 0 1 1 1 1 1 0\n",
      " 0 1 1 1 0 1]\n",
      "Correlation peak value: 16 at i=47\n"
     ]
    },
    {
     "data": {
      "text/plain": [
       "<StemContainer object of 3 artists>"
      ]
     },
     "execution_count": 27,
     "metadata": {},
     "output_type": "execute_result"
    },
    {
     "data": {
      "image/png": "[encoded data removed]",
      "text/plain": [
       "<Figure size 1800x360 with 1 Axes>"
      ]
     },
     "metadata": {
      "needs_background": "light"
     },
     "output_type": "display_data"
    }
   ],
   "source": [
    "# Create test data\n",
    "seq = np.unpackbits(np.array([0xbe, 0xef], dtype=np.dtype(\"uint8\")))\n",
    "stream = np.concatenate([\n",
    "    np.random.randint(low=0, high=2, size=32), seq, np.random.randint(low=0, high=2, size=32)\n",
    "])\n",
    "\n",
    "print(f\"Header (N={len(seq)}): {seq}\")\n",
    "print(f\"Stream (N={len(stream)}): {stream}\")\n",
    "\n",
    "# Create buffers for cross correlation\n",
    "fifo = RingBuffer(len(seq), dtype=np.dtype(\"uint8\"))\n",
    "xcorr = RingBuffer(len(stream) + len(seq), dtype=np.dtype(\"uint8\"))\n",
    "\n",
    "## fill FIFO with zeros\n",
    "fifo.extend(np.zeros(fifo.maxlen))\n",
    "\n",
    "def correlation(v):\n",
    "    n = len(seq)\n",
    "    d = np.logical_xor(v, seq) # or bitwise_xor, no difference in this case\n",
    "    return n - sum(d)\n",
    "    \n",
    "for i in range(len(stream) + len(seq) + 1):\n",
    "    xcorr.append(correlation(np.array(fifo)))\n",
    "    \n",
    "    # append stream data\n",
    "    # if the stream is finished use zeros\n",
    "    fifo.append(stream[i] if i < len(stream) else 0)\n",
    "\n",
    "# unwrap values\n",
    "xc = np.array(xcorr)\n",
    "# print(f\"Cross correlation: {xc}\")\n",
    "print(f\"Correlation peak value: {np.amax(xc)} at i={np.argmax(xc)}\")\n",
    "\n",
    "plt.figure(figsize = (25, 5))\n",
    "plt.stem(xc)"
   ]
  }
 ],
 "metadata": {
  "kernelspec": {
   "display_name": "Python 3 (ipykernel)",
   "language": "python",
   "name": "python3"
  },
  "language_info": {
   "codemirror_mode": {
    "name": "ipython",
    "version": 3
   },
   "file_extension": ".py",
   "mimetype": "text/x-python",
   "name": "python",
   "nbconvert_exporter": "python",
   "pygments_lexer": "ipython3",
   "version": "3.9.2"
  }
 },
 "nbformat": 4,
 "nbformat_minor": 5
}
