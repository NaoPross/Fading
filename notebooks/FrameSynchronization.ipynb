{
 "cells": [
  {
   "cell_type": "code",
   "execution_count": 1,
   "id": "5d5acf43",
   "metadata": {},
   "outputs": [],
   "source": [
    "import numpy as np\n",
    "from numpy_ringbuffer import RingBuffer\n",
    "\n",
    "import matplotlib.pyplot as plt\n",
    "import matplotlib.image as mpimg"
   ]
  },
  {
   "cell_type": "markdown",
   "id": "4b294887",
   "metadata": {},
   "source": [
    "# Digital Frame Synchronization\n"
   ]
  },
  {
   "cell_type": "code",
   "execution_count": 14,
   "id": "5bec50ff",
   "metadata": {},
   "outputs": [
    {
     "name": "stdout",
     "output_type": "stream",
     "text": [
      "Header sequence (N=16): [1 1 1 1 0 1 1 1 0 1 1 1 1 1 0 1]\n",
      "Cross correlation: [ 3.  3.  4.  4.  4.  4.  3.  6.  7.  7.  3.  6.  6.  8.  7.  6.  7. 11.\n",
      "  8.  7.  7. 10.  8.  8. 10.  8. 10.  7.  8.  8.  8. 10.  8. 11. 12.  9.\n",
      "  8. 10.  8. 11.  9. 10.  9. 16. 10. 10. 10. 12. 10. 14.  9. 10.  9. 13.\n",
      " 11.  9. 11.  8.  9. 11.  9.  9.  8.  8.  7.  9. 12.  5.  7.  9.  7. 10.\n",
      " 12.  6.  6.  9.  8.  6.  8.  5.  5.  8.  7.  5.  5.  4.  3.  4.  3.  3.\n",
      "  3.  3.]\n",
      "Corrlation peak value: 16.0\n"
     ]
    },
    {
     "data": {
      "text/plain": [
       "<StemContainer object of 3 artists>"
      ]
     },
     "execution_count": 14,
     "metadata": {},
     "output_type": "execute_result"
    },
    {
     "data": {
      "image/png": "[encoded data removed]",
      "text/plain": [
       "<Figure size 1800x360 with 1 Axes>"
      ]
     },
     "metadata": {
      "needs_background": "light"
     },
     "output_type": "display_data"
    }
   ],
   "source": [
    "# Create test data\n",
    "seq = np.array([(0xbeef >> i) & 0x1 for i in range(4 * 4)])\n",
    "# seq = np.array([1, 1, 1, 1, 1, 0, 0, 1, 1, 0, 1, 0, 1])\n",
    "\n",
    "stream = np.concatenate([\n",
    "    np.random.randint(low=0, high=2, size=30), seq, np.random.randint(low=0, high=2, size=30)\n",
    "])\n",
    "\n",
    "print(f\"Header sequence (N={len(seq)}): {seq}\")\n",
    "# print(f\"Data stream: {stream}\")\n",
    "\n",
    "# compute cross correlation\n",
    "def distance(v):\n",
    "    return len(seq) - sum(np.logical_xor(v, seq))\n",
    "\n",
    "fifo = RingBuffer(len(seq))\n",
    "xcorr = RingBuffer(len(stream) + len(seq))\n",
    "\n",
    "## fill FIFO with zeros\n",
    "fifo.extend(np.zeros(fifo.maxlen))\n",
    "\n",
    "for i in range(len(stream) + len(seq)):\n",
    "    #print(np.array(fifo))\n",
    "    xcorr.append(distance(np.array(fifo)))\n",
    "    \n",
    "    # if the stream is finished use zeros\n",
    "    fifo.pop()\n",
    "    if i < len(stream):\n",
    "        fifo.appendleft(stream[i])\n",
    "    else:\n",
    "        fifo.appendleft(0)\n",
    "\n",
    "print(f\"Cross correlation: {np.array(xcorr)}\")\n",
    "print(f\"Correlation peak value: {max(np.array(xcorr))}\")\n",
    "\n",
    "plt.figure(figsize = (25, 5))\n",
    "plt.stem(np.array(xcorr))"
   ]
  }
 ],
 "metadata": {
  "kernelspec": {
   "display_name": "Python 3 (ipykernel)",
   "language": "python",
   "name": "python3"
  },
  "language_info": {
   "codemirror_mode": {
    "name": "ipython",
    "version": 3
   },
   "file_extension": ".py",
   "mimetype": "text/x-python",
   "name": "python",
   "nbconvert_exporter": "python",
   "pygments_lexer": "ipython3",
   "version": "3.9.2"
  }
 },
 "nbformat": 4,
 "nbformat_minor": 5
}
