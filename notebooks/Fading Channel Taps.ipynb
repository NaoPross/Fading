{
 "cells": [
  {
   "cell_type": "code",
   "execution_count": 1,
   "id": "8460e242",
   "metadata": {},
   "outputs": [],
   "source": [
    "import numpy as np\n"
   ]
  },
  {
   "cell_type": "code",
   "execution_count": 2,
   "id": "9790f979",
   "metadata": {},
   "outputs": [],
   "source": [
    "db = -4"
   ]
  },
  {
   "cell_type": "code",
   "execution_count": 3,
   "id": "041264af",
   "metadata": {},
   "outputs": [],
   "source": [
    "lin = 10**(db/10)#dB Wert umrechnen "
   ]
  },
  {
   "cell_type": "code",
   "execution_count": 5,
   "id": "7b6019fe",
   "metadata": {},
   "outputs": [
    {
     "data": {
      "text/plain": [
       "0.3981071705534972"
      ]
     },
     "execution_count": 5,
     "metadata": {},
     "output_type": "execute_result"
    }
   ],
   "source": [
    "lin"
   ]
  },
  {
   "cell_type": "code",
   "execution_count": null,
   "id": "50842115",
   "metadata": {},
   "outputs": [],
   "source": []
  },
  {
   "cell_type": "code",
   "execution_count": null,
   "id": "56081416",
   "metadata": {},
   "outputs": [],
   "source": []
  },
  {
   "cell_type": "code",
   "execution_count": null,
   "id": "38caef8e",
   "metadata": {},
   "outputs": [],
   "source": []
  }
 ],
 "metadata": {
  "kernelspec": {
   "display_name": "Python 3 (ipykernel)",
   "language": "python",
   "name": "python3"
  },
  "language_info": {
   "codemirror_mode": {
    "name": "ipython",
    "version": 3
   },
   "file_extension": ".py",
   "mimetype": "text/x-python",
   "name": "python",
   "nbconvert_exporter": "python",
   "pygments_lexer": "ipython3",
   "version": "3.9.2"
  }
 },
 "nbformat": 4,
 "nbformat_minor": 5
}
